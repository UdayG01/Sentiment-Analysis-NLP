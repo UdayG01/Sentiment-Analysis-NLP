{
  "nbformat": 4,
  "nbformat_minor": 0,
  "metadata": {
    "colab": {
      "provenance": [],
      "authorship_tag": "ABX9TyMoouERxluBNWgrT+hZVnvM",
      "include_colab_link": true
    },
    "kernelspec": {
      "name": "python3",
      "display_name": "Python 3"
    },
    "language_info": {
      "name": "python"
    }
  },
  "cells": [
    {
      "cell_type": "markdown",
      "metadata": {
        "id": "view-in-github",
        "colab_type": "text"
      },
      "source": [
        "<a href=\"https://colab.research.google.com/github/UdayG01/Sentiment-Analysis-NLP/blob/main/SentimentalAnalysis(ML).ipynb\" target=\"_parent\"><img src=\"https://colab.research.google.com/assets/colab-badge.svg\" alt=\"Open In Colab\"/></a>"
      ]
    },
    {
      "cell_type": "markdown",
      "source": [
        "* Here, I have implemented traditional sentimental analysis using ML algorithms like that of Naive-Bayes, Stochastic Gradient Descent, SVM and Logistic Regression.\n",
        "\n",
        "* Faced some troubles due to incorrect pre-processing while I was making the analysis with SGDC, SVM and LR with the Count Vectorized data.\n",
        "\n",
        "* Since this is traditional sentimental analysis, we have tokenized the sentenced, calculated the sentiment scores for each token, aggregated them, and the final score represents the sentiment for the entire sentence/doc. And finally we have calculated the accuracy for the model.\n",
        "\n",
        "* in the doc ABSA, I have implemented Aspect-Based Sentiment Analysis"
      ],
      "metadata": {
        "id": "KPuoMKlvLg6T"
      }
    },
    {
      "cell_type": "code",
      "execution_count": 18,
      "metadata": {
        "id": "v9kqJF6ov7Dk",
        "colab": {
          "base_uri": "https://localhost:8080/",
          "height": 90
        },
        "outputId": "193d28ad-e374-4571-e31b-2df8181f4dc8"
      },
      "outputs": [
        {
          "output_type": "execute_result",
          "data": {
            "text/plain": [
              "\"\\nimport pandas as pd\\n\\ncolumn_names = ['tweetid', 'entity', 'sentiment', 'tweetContent']\\n\\n# Read the CSV file into a pandas DataFrame (replace 'path/to/your/csv_file.csv' with your file path)\\ndf = pd.read_csv('/content/twitter_training.csv')\\n\\n# Assign the column names to the DataFrame\\ndf.columns = column_names\\n\\n# Now, you can work with the DataFrame with the updated column names\\nprint(df.head())  \\n\\ndf.to_csv('/content/twitter_training.csv', index=False)\\n\\n\""
            ],
            "application/vnd.google.colaboratory.intrinsic+json": {
              "type": "string"
            }
          },
          "metadata": {},
          "execution_count": 18
        }
      ],
      "source": [
        "'''\n",
        "import pandas as pd\n",
        "\n",
        "column_names = ['tweetid', 'entity', 'sentiment', 'tweetContent']\n",
        "\n",
        "# Read the CSV file into a pandas DataFrame (replace 'path/to/your/csv_file.csv' with your file path)\n",
        "df = pd.read_csv('/content/twitter_training.csv')\n",
        "\n",
        "# Assign the column names to the DataFrame\n",
        "df.columns = column_names\n",
        "\n",
        "# Now, you can work with the DataFrame with the updated column names\n",
        "print(df.head())\n",
        "\n",
        "df.to_csv('/content/twitter_training.csv', index=False)\n",
        "\n",
        "'''\n",
        "\n",
        "# https://github.com/DrManishSharma/NLP/blob/master/SentiAnalysis.ipynb - Taken reference from this repo\n"
      ]
    },
    {
      "cell_type": "code",
      "source": [
        "import pandas as pd\n",
        "\n",
        "df = pd.read_csv('/content/twitter_training.csv')\n",
        "df.head()"
      ],
      "metadata": {
        "colab": {
          "base_uri": "https://localhost:8080/",
          "height": 206
        },
        "id": "nQLI-OqvIX9f",
        "outputId": "01543c78-527e-4ff0-ba58-7e6562172502"
      },
      "execution_count": 6,
      "outputs": [
        {
          "output_type": "execute_result",
          "data": {
            "text/plain": [
              "   tweetid       entity sentiment  \\\n",
              "0     2401  Borderlands  Positive   \n",
              "1     2401  Borderlands  Positive   \n",
              "2     2401  Borderlands  Positive   \n",
              "3     2401  Borderlands  Positive   \n",
              "4     2401  Borderlands  Positive   \n",
              "\n",
              "                                        tweetContent  \n",
              "0  I am coming to the borders and I will kill you...  \n",
              "1  im getting on borderlands and i will kill you ...  \n",
              "2  im coming on borderlands and i will murder you...  \n",
              "3  im getting on borderlands 2 and i will murder ...  \n",
              "4  im getting into borderlands and i can murder y...  "
            ],
            "text/html": [
              "\n",
              "\n",
              "  <div id=\"df-256cac36-786c-4173-a7e8-e469d397cfb3\">\n",
              "    <div class=\"colab-df-container\">\n",
              "      <div>\n",
              "<style scoped>\n",
              "    .dataframe tbody tr th:only-of-type {\n",
              "        vertical-align: middle;\n",
              "    }\n",
              "\n",
              "    .dataframe tbody tr th {\n",
              "        vertical-align: top;\n",
              "    }\n",
              "\n",
              "    .dataframe thead th {\n",
              "        text-align: right;\n",
              "    }\n",
              "</style>\n",
              "<table border=\"1\" class=\"dataframe\">\n",
              "  <thead>\n",
              "    <tr style=\"text-align: right;\">\n",
              "      <th></th>\n",
              "      <th>tweetid</th>\n",
              "      <th>entity</th>\n",
              "      <th>sentiment</th>\n",
              "      <th>tweetContent</th>\n",
              "    </tr>\n",
              "  </thead>\n",
              "  <tbody>\n",
              "    <tr>\n",
              "      <th>0</th>\n",
              "      <td>2401</td>\n",
              "      <td>Borderlands</td>\n",
              "      <td>Positive</td>\n",
              "      <td>I am coming to the borders and I will kill you...</td>\n",
              "    </tr>\n",
              "    <tr>\n",
              "      <th>1</th>\n",
              "      <td>2401</td>\n",
              "      <td>Borderlands</td>\n",
              "      <td>Positive</td>\n",
              "      <td>im getting on borderlands and i will kill you ...</td>\n",
              "    </tr>\n",
              "    <tr>\n",
              "      <th>2</th>\n",
              "      <td>2401</td>\n",
              "      <td>Borderlands</td>\n",
              "      <td>Positive</td>\n",
              "      <td>im coming on borderlands and i will murder you...</td>\n",
              "    </tr>\n",
              "    <tr>\n",
              "      <th>3</th>\n",
              "      <td>2401</td>\n",
              "      <td>Borderlands</td>\n",
              "      <td>Positive</td>\n",
              "      <td>im getting on borderlands 2 and i will murder ...</td>\n",
              "    </tr>\n",
              "    <tr>\n",
              "      <th>4</th>\n",
              "      <td>2401</td>\n",
              "      <td>Borderlands</td>\n",
              "      <td>Positive</td>\n",
              "      <td>im getting into borderlands and i can murder y...</td>\n",
              "    </tr>\n",
              "  </tbody>\n",
              "</table>\n",
              "</div>\n",
              "      <button class=\"colab-df-convert\" onclick=\"convertToInteractive('df-256cac36-786c-4173-a7e8-e469d397cfb3')\"\n",
              "              title=\"Convert this dataframe to an interactive table.\"\n",
              "              style=\"display:none;\">\n",
              "\n",
              "  <svg xmlns=\"http://www.w3.org/2000/svg\" height=\"24px\"viewBox=\"0 0 24 24\"\n",
              "       width=\"24px\">\n",
              "    <path d=\"M0 0h24v24H0V0z\" fill=\"none\"/>\n",
              "    <path d=\"M18.56 5.44l.94 2.06.94-2.06 2.06-.94-2.06-.94-.94-2.06-.94 2.06-2.06.94zm-11 1L8.5 8.5l.94-2.06 2.06-.94-2.06-.94L8.5 2.5l-.94 2.06-2.06.94zm10 10l.94 2.06.94-2.06 2.06-.94-2.06-.94-.94-2.06-.94 2.06-2.06.94z\"/><path d=\"M17.41 7.96l-1.37-1.37c-.4-.4-.92-.59-1.43-.59-.52 0-1.04.2-1.43.59L10.3 9.45l-7.72 7.72c-.78.78-.78 2.05 0 2.83L4 21.41c.39.39.9.59 1.41.59.51 0 1.02-.2 1.41-.59l7.78-7.78 2.81-2.81c.8-.78.8-2.07 0-2.86zM5.41 20L4 18.59l7.72-7.72 1.47 1.35L5.41 20z\"/>\n",
              "  </svg>\n",
              "      </button>\n",
              "\n",
              "\n",
              "\n",
              "    <div id=\"df-aca68b6a-b441-41cc-850b-cc24ec2ff0e2\">\n",
              "      <button class=\"colab-df-quickchart\" onclick=\"quickchart('df-aca68b6a-b441-41cc-850b-cc24ec2ff0e2')\"\n",
              "              title=\"Suggest charts.\"\n",
              "              style=\"display:none;\">\n",
              "\n",
              "<svg xmlns=\"http://www.w3.org/2000/svg\" height=\"24px\"viewBox=\"0 0 24 24\"\n",
              "     width=\"24px\">\n",
              "    <g>\n",
              "        <path d=\"M19 3H5c-1.1 0-2 .9-2 2v14c0 1.1.9 2 2 2h14c1.1 0 2-.9 2-2V5c0-1.1-.9-2-2-2zM9 17H7v-7h2v7zm4 0h-2V7h2v10zm4 0h-2v-4h2v4z\"/>\n",
              "    </g>\n",
              "</svg>\n",
              "      </button>\n",
              "    </div>\n",
              "\n",
              "<style>\n",
              "  .colab-df-quickchart {\n",
              "    background-color: #E8F0FE;\n",
              "    border: none;\n",
              "    border-radius: 50%;\n",
              "    cursor: pointer;\n",
              "    display: none;\n",
              "    fill: #1967D2;\n",
              "    height: 32px;\n",
              "    padding: 0 0 0 0;\n",
              "    width: 32px;\n",
              "  }\n",
              "\n",
              "  .colab-df-quickchart:hover {\n",
              "    background-color: #E2EBFA;\n",
              "    box-shadow: 0px 1px 2px rgba(60, 64, 67, 0.3), 0px 1px 3px 1px rgba(60, 64, 67, 0.15);\n",
              "    fill: #174EA6;\n",
              "  }\n",
              "\n",
              "  [theme=dark] .colab-df-quickchart {\n",
              "    background-color: #3B4455;\n",
              "    fill: #D2E3FC;\n",
              "  }\n",
              "\n",
              "  [theme=dark] .colab-df-quickchart:hover {\n",
              "    background-color: #434B5C;\n",
              "    box-shadow: 0px 1px 3px 1px rgba(0, 0, 0, 0.15);\n",
              "    filter: drop-shadow(0px 1px 2px rgba(0, 0, 0, 0.3));\n",
              "    fill: #FFFFFF;\n",
              "  }\n",
              "</style>\n",
              "\n",
              "    <script>\n",
              "      async function quickchart(key) {\n",
              "        const containerElement = document.querySelector('#' + key);\n",
              "        const charts = await google.colab.kernel.invokeFunction(\n",
              "            'suggestCharts', [key], {});\n",
              "      }\n",
              "    </script>\n",
              "\n",
              "      <script>\n",
              "\n",
              "function displayQuickchartButton(domScope) {\n",
              "  let quickchartButtonEl =\n",
              "    domScope.querySelector('#df-aca68b6a-b441-41cc-850b-cc24ec2ff0e2 button.colab-df-quickchart');\n",
              "  quickchartButtonEl.style.display =\n",
              "    google.colab.kernel.accessAllowed ? 'block' : 'none';\n",
              "}\n",
              "\n",
              "        displayQuickchartButton(document);\n",
              "      </script>\n",
              "      <style>\n",
              "    .colab-df-container {\n",
              "      display:flex;\n",
              "      flex-wrap:wrap;\n",
              "      gap: 12px;\n",
              "    }\n",
              "\n",
              "    .colab-df-convert {\n",
              "      background-color: #E8F0FE;\n",
              "      border: none;\n",
              "      border-radius: 50%;\n",
              "      cursor: pointer;\n",
              "      display: none;\n",
              "      fill: #1967D2;\n",
              "      height: 32px;\n",
              "      padding: 0 0 0 0;\n",
              "      width: 32px;\n",
              "    }\n",
              "\n",
              "    .colab-df-convert:hover {\n",
              "      background-color: #E2EBFA;\n",
              "      box-shadow: 0px 1px 2px rgba(60, 64, 67, 0.3), 0px 1px 3px 1px rgba(60, 64, 67, 0.15);\n",
              "      fill: #174EA6;\n",
              "    }\n",
              "\n",
              "    [theme=dark] .colab-df-convert {\n",
              "      background-color: #3B4455;\n",
              "      fill: #D2E3FC;\n",
              "    }\n",
              "\n",
              "    [theme=dark] .colab-df-convert:hover {\n",
              "      background-color: #434B5C;\n",
              "      box-shadow: 0px 1px 3px 1px rgba(0, 0, 0, 0.15);\n",
              "      filter: drop-shadow(0px 1px 2px rgba(0, 0, 0, 0.3));\n",
              "      fill: #FFFFFF;\n",
              "    }\n",
              "  </style>\n",
              "\n",
              "      <script>\n",
              "        const buttonEl =\n",
              "          document.querySelector('#df-256cac36-786c-4173-a7e8-e469d397cfb3 button.colab-df-convert');\n",
              "        buttonEl.style.display =\n",
              "          google.colab.kernel.accessAllowed ? 'block' : 'none';\n",
              "\n",
              "        async function convertToInteractive(key) {\n",
              "          const element = document.querySelector('#df-256cac36-786c-4173-a7e8-e469d397cfb3');\n",
              "          const dataTable =\n",
              "            await google.colab.kernel.invokeFunction('convertToInteractive',\n",
              "                                                     [key], {});\n",
              "          if (!dataTable) return;\n",
              "\n",
              "          const docLinkHtml = 'Like what you see? Visit the ' +\n",
              "            '<a target=\"_blank\" href=https://colab.research.google.com/notebooks/data_table.ipynb>data table notebook</a>'\n",
              "            + ' to learn more about interactive tables.';\n",
              "          element.innerHTML = '';\n",
              "          dataTable['output_type'] = 'display_data';\n",
              "          await google.colab.output.renderOutput(dataTable, element);\n",
              "          const docLink = document.createElement('div');\n",
              "          docLink.innerHTML = docLinkHtml;\n",
              "          element.appendChild(docLink);\n",
              "        }\n",
              "      </script>\n",
              "    </div>\n",
              "  </div>\n"
            ]
          },
          "metadata": {},
          "execution_count": 6
        }
      ]
    },
    {
      "cell_type": "markdown",
      "source": [
        "Naive Bayes"
      ],
      "metadata": {
        "id": "2jk2WBn0Rj-t"
      }
    },
    {
      "cell_type": "code",
      "source": [
        "import pandas as pd\n",
        "from sklearn.feature_extraction.text import CountVectorizer\n",
        "from sklearn.naive_bayes import MultinomialNB\n",
        "from sklearn.model_selection import train_test_split\n",
        "from sklearn.metrics import accuracy_score, classification_report\n",
        "\n",
        "# Step 1: Load the dataset from the CSV file\n",
        "csv_file_path = '/content/twitter_training.csv'\n",
        "data = pd.read_csv(csv_file_path)\n",
        "data = data.dropna()\n",
        "\n",
        "# Step 2: Preprocess the data (if needed)\n",
        "# Depending on your dataset, you might need to clean the text data, remove stopwords, etc.\n",
        "from nltk.tokenize import RegexpTokenizer\n",
        "token = RegexpTokenizer(r'[a-zA-Z0-9]+')\n",
        "cv = CountVectorizer(stop_words='english',ngram_range = (1,1),tokenizer = token.tokenize)\n",
        "text_counts = cv.fit_transform(data['tweetContent'])\n",
        "\n",
        "# Step 3: Split the data into training and testing sets\n",
        "X = data['tweetContent']  # Input features (text samples)\n",
        "y = data['sentiment']  # Target labels (sentiment)\n",
        "\n",
        "X_train, X_test, y_train, y_test = train_test_split(X, y, test_size=0.2, random_state=42)\n",
        "\n",
        "# Step 4: Vectorize the text data\n",
        "vectorizer = CountVectorizer()\n",
        "X_train_vectorized = vectorizer.fit_transform(X_train)\n",
        "X_test_vectorized = vectorizer.transform(X_test)\n",
        "\n",
        "# Step 5: Train the Naive Bayes classifier\n",
        "nb_classifier = MultinomialNB()\n",
        "nb_classifier.fit(X_train_vectorized, y_train)\n",
        "\n",
        "# Step 6: Make predictions on the test set\n",
        "y_pred = nb_classifier.predict(X_test_vectorized)\n",
        "\n",
        "# Step 7: Evaluate the model\n",
        "accuracy = accuracy_score(y_test, y_pred)\n",
        "print(f\"Accuracy: {accuracy:.2f}\")\n",
        "\n",
        "print(\"\\nClassification Report:\")\n",
        "print(classification_report(y_test, y_pred))\n"
      ],
      "metadata": {
        "colab": {
          "base_uri": "https://localhost:8080/"
        },
        "id": "ofkW-pjWKVfd",
        "outputId": "53fe62f5-0780-486d-a806-790235c1c7d1"
      },
      "execution_count": 8,
      "outputs": [
        {
          "output_type": "stream",
          "name": "stderr",
          "text": [
            "/usr/local/lib/python3.10/dist-packages/sklearn/feature_extraction/text.py:528: UserWarning: The parameter 'token_pattern' will not be used since 'tokenizer' is not None'\n",
            "  warnings.warn(\n"
          ]
        },
        {
          "output_type": "stream",
          "name": "stdout",
          "text": [
            "Accuracy: 0.75\n",
            "\n",
            "Classification Report:\n",
            "              precision    recall  f1-score   support\n",
            "\n",
            "  Irrelevant       0.84      0.63      0.72      2624\n",
            "    Negative       0.71      0.86      0.77      4463\n",
            "     Neutral       0.83      0.64      0.72      3589\n",
            "    Positive       0.72      0.82      0.77      4123\n",
            "\n",
            "    accuracy                           0.75     14799\n",
            "   macro avg       0.78      0.74      0.75     14799\n",
            "weighted avg       0.77      0.75      0.75     14799\n",
            "\n"
          ]
        }
      ]
    },
    {
      "cell_type": "code",
      "source": [
        "from sklearn.feature_extraction.text import TfidfVectorizer\n",
        "from sklearn import metrics\n",
        "tfidf = TfidfVectorizer()\n",
        "text_count_2 = tfidf.fit_transform(data['tweetContent'])\n",
        "\n",
        "#splitting the data in test and training\n",
        "#from sklearn.model_selection() import train_test_split()\n",
        "x_train, x_test, y_train, y_test = train_test_split(text_count_2, data['sentiment'],test_size=0.25,random_state=5)\n",
        "\n",
        "#defining the model\n",
        "#compilimg the model -> we are going to use already used models GNB, MNB, CNB, BNB\n",
        "#fitting the model\n",
        "nb_classifier.fit(x_train, y_train)\n",
        "accuracy_score_mnb = metrics.accuracy_score(nb_classifier.predict(x_test), y_test)\n",
        "print('accuracy_score_mnb = '+str('{:4.2f}'.format(accuracy_score_mnb*100))+'%')\n"
      ],
      "metadata": {
        "colab": {
          "base_uri": "https://localhost:8080/",
          "height": 109
        },
        "id": "yzPXW4MnL5JL",
        "outputId": "75ba9596-cf45-473c-f8f5-8c0043ccf903"
      },
      "execution_count": 10,
      "outputs": [
        {
          "output_type": "stream",
          "name": "stdout",
          "text": [
            "accuracy_score_mnb = 71.71%\n"
          ]
        },
        {
          "output_type": "execute_result",
          "data": {
            "text/plain": [
              "\"\\nBNB.fit(x_train, y_train)\\naccuracy_score_bnb = metrics.accuracy_score(BNB.predict(x_test), y_test)\\nprint('accuracy_score_bnb = '+str('{:4.2f}'.format(accuracy_score_bnb*100))+'%')\\n\\nCNB.fit(x_train, y_train)\\naccuracy_score_cnb = metrics.accuracy_score(CNB.predict(x_test), y_test)\\nprint('accuracy_score_cnb = '+str('{:4.2f}'.format(accuracy_score_cnb*100))+'%')\\n\\nGNB.fit(x_train.todense(), y_train)\\naccuracy_score_gnb = metrics.accuracy_score(GNB.predict(x_test.todense()), y_test)\\nprint('accuracy_score_gnb = '+str('{:4.2f}'.format(accuracy_score_gnb*100))+'%')\\n\""
            ],
            "application/vnd.google.colaboratory.intrinsic+json": {
              "type": "string"
            }
          },
          "metadata": {},
          "execution_count": 10
        }
      ]
    },
    {
      "cell_type": "markdown",
      "source": [
        "Other than Naive Bayes"
      ],
      "metadata": {
        "id": "tjj5cM4XLonz"
      }
    },
    {
      "cell_type": "code",
      "source": [
        "from sklearn.linear_model import LogisticRegression, SGDClassifier\n",
        "from sklearn.svm import LinearSVC\n",
        "SGDC = SGDClassifier()\n",
        "LSVC = LinearSVC()\n",
        "LR = LogisticRegression(max_iter = 10000) # how to get optimal value of this hyperparameter?\n",
        "\n",
        "#on TF-IDF data\n",
        "LSVC.fit(x_train, y_train)\n",
        "accuracy_score_lsvc = metrics.accuracy_score(LSVC.predict(x_test), y_test)\n",
        "print('accuracy_score_lsvc = '+str('{:4.2f}'.format(accuracy_score_lsvc*100))+'%')\n",
        "\n",
        "SGDC.fit(x_train, y_train)\n",
        "accuracy_score_sgdc = metrics.accuracy_score(SGDC.predict(x_test), y_test)\n",
        "print('accuracy_score_sgdc = '+str('{:4.2f}'.format(accuracy_score_sgdc*100))+'%')\n",
        "\n",
        "LR.fit(x_train, y_train)\n",
        "accuracy_score_lr = metrics.accuracy_score(LR.predict(x_test), y_test)\n",
        "print('accuracy_score_sgdc = '+str('{:4.2f}'.format(accuracy_score_lr*100))+'%')\n",
        "\n",
        "'''\n",
        "#on CountVectorize data\n",
        "LSVC.fit(X_train, y_train)\n",
        "accuracy_score_lsvc_CV = metrics.accuracy_score(LSVC.predict(X_test), y_test)\n",
        "print('accuracy_score_lsvc_cv = '+str('{:4.2f}'.format(accuracy_score_lsvc_CV*100))+'%')\n",
        "\n",
        "SGDC.fit(X_train, y_train)\n",
        "accuracy_score_sgdc_CV = metrics.accuracy_score(SGDC.predict(X_test), y_test)\n",
        "print('accuracy_score_sgdc_cv = '+str('{:4.2f}'.format(accuracy_score_sgdc_CV*100))+'%')\n",
        "'''\n",
        "#Receiving errors while performing the analysis on vectorized data"
      ],
      "metadata": {
        "colab": {
          "base_uri": "https://localhost:8080/",
          "height": 127
        },
        "id": "KS2oqCzYLoCv",
        "outputId": "e34fba93-49a4-4b43-8a1d-011dc1b0eebb"
      },
      "execution_count": 17,
      "outputs": [
        {
          "output_type": "stream",
          "name": "stdout",
          "text": [
            "accuracy_score_lsvc = 86.64%\n",
            "accuracy_score_sgdc = 71.71%\n",
            "accuracy_score_sgdc = 78.63%\n"
          ]
        },
        {
          "output_type": "execute_result",
          "data": {
            "text/plain": [
              "\"\\n#on CountVectorize data\\nLSVC.fit(X_train, y_train)\\naccuracy_score_lsvc_CV = metrics.accuracy_score(LSVC.predict(X_test), y_test)\\nprint('accuracy_score_lsvc_cv = '+str('{:4.2f}'.format(accuracy_score_lsvc_CV*100))+'%')\\n\\nSGDC.fit(X_train, y_train)\\naccuracy_score_sgdc_CV = metrics.accuracy_score(SGDC.predict(X_test), y_test)\\nprint('accuracy_score_sgdc_cv = '+str('{:4.2f}'.format(accuracy_score_sgdc_CV*100))+'%')\\n\""
            ],
            "application/vnd.google.colaboratory.intrinsic+json": {
              "type": "string"
            }
          },
          "metadata": {},
          "execution_count": 17
        }
      ]
    },
    {
      "cell_type": "markdown",
      "source": [
        "The commented portion in the above code is where I received errors of unequal rows. A better preprocessing approach might help to curb it."
      ],
      "metadata": {
        "id": "IIYOOfJ2Rqh8"
      }
    }
  ]
}